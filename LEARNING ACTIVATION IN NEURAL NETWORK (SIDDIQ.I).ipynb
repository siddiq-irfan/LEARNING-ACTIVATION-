{
 "cells": [
  {
   "cell_type": "code",
   "execution_count": 1,
   "id": "8fbbddba",
   "metadata": {},
   "outputs": [],
   "source": [
    "import numpy as np\n",
    "import pandas as pd\n",
    "from sklearn.model_selection import train_test_split\n",
    "from sklearn.preprocessing import OneHotEncoder, StandardScaler\n",
    "import tensorflow as tf\n",
    "from tensorflow.keras.models import Sequential\n",
    "from tensorflow.keras.layers import Dense, Dropout\n",
    "from tensorflow.keras.optimizers import Adam\n",
    "from sklearn.datasets import load_iris\n",
    "from sklearn.metrics import f1_score"
   ]
  },
  {
   "cell_type": "code",
   "execution_count": 18,
   "id": "c095e11d",
   "metadata": {},
   "outputs": [],
   "source": [
    "# Load and preprocess the Iris dataset\n",
    "iris=load_iris()\n",
    "X = iris['data']\n",
    "y = iris['target']\n",
    "#These names are often used for labeling plots, displaying information, or performing other operations related to the dataset.\n",
    "names = iris['target_names']\n",
    "feature_names = iris['feature_names']"
   ]
  },
  {
   "cell_type": "code",
   "execution_count": 3,
   "id": "79a2ec36",
   "metadata": {},
   "outputs": [],
   "source": [
    "enc = OneHotEncoder()\n",
    "scaler = StandardScaler()"
   ]
  },
  {
   "cell_type": "code",
   "execution_count": 4,
   "id": "87097cd8",
   "metadata": {},
   "outputs": [],
   "source": [
    "X_train, X_test, y_train, y_test = train_test_split(X, y, test_size=0.2, random_state=42)"
   ]
  },
  {
   "cell_type": "code",
   "execution_count": 19,
   "id": "27e2c299",
   "metadata": {},
   "outputs": [
    {
     "data": {
      "image/png": "[encoded data removed]",
      "text/plain": [
       "<Figure size 1152x432 with 2 Axes>"
      ]
     },
     "metadata": {
      "needs_background": "light"
     },
     "output_type": "display_data"
    }
   ],
   "source": [
    "# Visualize the data sets\n",
    "plt.figure(figsize=(16, 6))\n",
    "plt.subplot(1, 2, 1)\n",
    "for target, target_name in enumerate(names):\n",
    "    X_plot = X[y == target]\n",
    "    plt.plot(X_plot[:, 0], X_plot[:, 1], linestyle='none', marker='o', label=target_name)\n",
    "plt.xlabel(feature_names[0])\n",
    "plt.ylabel(feature_names[1])\n",
    "plt.axis('equal')\n",
    "plt.legend();\n",
    "\n",
    "plt.subplot(1, 2, 2)\n",
    "for target, target_name in enumerate(names):\n",
    "    X_plot = X[y == target]\n",
    "    plt.plot(X_plot[:, 2], X_plot[:, 3], linestyle='none', marker='o', label=target_name)\n",
    "plt.xlabel(feature_names[2])\n",
    "plt.ylabel(feature_names[3])\n",
    "plt.axis('equal')\n",
    "plt.legend();"
   ]
  },
  {
   "cell_type": "code",
   "execution_count": 5,
   "id": "435ee8cd",
   "metadata": {},
   "outputs": [],
   "source": [
    "X_train = scaler.fit_transform(X_train)\n",
    "X_test = scaler.transform(X_test)"
   ]
  },
  {
   "cell_type": "code",
   "execution_count": 6,
   "id": "ede1ef31",
   "metadata": {},
   "outputs": [],
   "source": [
    "y_train = enc.fit_transform(y_train[:, np.newaxis]).toarray()"
   ]
  },
  {
   "cell_type": "code",
   "execution_count": 7,
   "id": "a0aed14f",
   "metadata": {},
   "outputs": [],
   "source": [
    "# Define the adaptive activation function\n",
    "k0 = tf.Variable(tf.random.uniform([1]))\n",
    "k1 = tf.Variable(tf.random.uniform([1]))"
   ]
  },
  {
   "cell_type": "code",
   "execution_count": 8,
   "id": "ec1ffa08",
   "metadata": {},
   "outputs": [],
   "source": [
    "# Define the adaptive activation function\n",
    "def adaact(x):\n",
    "    return k0 + k1 * x"
   ]
  },
  {
   "cell_type": "code",
   "execution_count": 9,
   "id": "ca59e5df",
   "metadata": {},
   "outputs": [
    {
     "name": "stdout",
     "output_type": "stream",
     "text": [
      "Model: \"sequential\"\n",
      "_________________________________________________________________\n",
      " Layer (type)                Output Shape              Param #   \n",
      "=================================================================\n",
      " dense (Dense)               (None, 25)                125       \n",
      "                                                                 \n",
      " dropout (Dropout)           (None, 25)                0         \n",
      "                                                                 \n",
      " dense_1 (Dense)             (None, 3)                 78        \n",
      "                                                                 \n",
      "=================================================================\n",
      "Total params: 203\n",
      "Trainable params: 203\n",
      "Non-trainable params: 0\n",
      "_________________________________________________________________\n"
     ]
    }
   ],
   "source": [
    "# Build the model\n",
    "model = Sequential()\n",
    "model.add(Dense(25, input_dim=4, activation=adaact))\n",
    "model.add(Dropout(0.2))\n",
    "model.add(Dense(3, activation='softmax'))\n",
    "model.summary()"
   ]
  },
  {
   "cell_type": "code",
   "execution_count": 10,
   "id": "96596ef2",
   "metadata": {},
   "outputs": [],
   "source": [
    "# Compile the model\n",
    "model.compile(loss='categorical_crossentropy', optimizer=Adam(), metrics=['accuracy'])"
   ]
  },
  {
   "cell_type": "code",
   "execution_count": 11,
   "id": "bad3727e",
   "metadata": {},
   "outputs": [
    {
     "name": "stdout",
     "output_type": "stream",
     "text": [
      "Epoch 1/100\n",
      "4/4 [==============================] - 1s 3ms/step - loss: 1.4814 - accuracy: 0.2333\n",
      "Epoch 2/100\n",
      "4/4 [==============================] - 0s 0s/step - loss: 1.4254 - accuracy: 0.2750\n",
      "Epoch 3/100\n",
      "4/4 [==============================] - 0s 1ms/step - loss: 1.3291 - accuracy: 0.3167\n",
      "Epoch 4/100\n",
      "4/4 [==============================] - 0s 4ms/step - loss: 1.2526 - accuracy: 0.3500\n",
      "Epoch 5/100\n",
      "4/4 [==============================] - 0s 0s/step - loss: 1.2891 - accuracy: 0.3333\n",
      "Epoch 6/100\n",
      "4/4 [==============================] - 0s 6ms/step - loss: 1.2165 - accuracy: 0.3667\n",
      "Epoch 7/100\n",
      "4/4 [==============================] - 0s 4ms/step - loss: 1.2149 - accuracy: 0.2833\n",
      "Epoch 8/100\n",
      "4/4 [==============================] - 0s 0s/step - loss: 1.1594 - accuracy: 0.3500\n",
      "Epoch 9/100\n",
      "4/4 [==============================] - 0s 2ms/step - loss: 1.1483 - accuracy: 0.3833\n",
      "Epoch 10/100\n",
      "4/4 [==============================] - 0s 4ms/step - loss: 1.1052 - accuracy: 0.3917\n",
      "Epoch 11/100\n",
      "4/4 [==============================] - 0s 0s/step - loss: 1.0661 - accuracy: 0.4750\n",
      "Epoch 12/100\n",
      "4/4 [==============================] - 0s 2ms/step - loss: 1.0157 - accuracy: 0.5333\n",
      "Epoch 13/100\n",
      "4/4 [==============================] - 0s 4ms/step - loss: 1.0136 - accuracy: 0.5750\n",
      "Epoch 14/100\n",
      "4/4 [==============================] - 0s 0s/step - loss: 1.0467 - accuracy: 0.4750\n",
      "Epoch 15/100\n",
      "4/4 [==============================] - 0s 817us/step - loss: 1.0323 - accuracy: 0.4500\n",
      "Epoch 16/100\n",
      "4/4 [==============================] - 0s 6ms/step - loss: 0.9924 - accuracy: 0.5417\n",
      "Epoch 17/100\n",
      "4/4 [==============================] - 0s 4ms/step - loss: 0.9572 - accuracy: 0.5667\n",
      "Epoch 18/100\n",
      "4/4 [==============================] - 0s 637us/step - loss: 0.9612 - accuracy: 0.5417\n",
      "Epoch 19/100\n",
      "4/4 [==============================] - 0s 6ms/step - loss: 0.9496 - accuracy: 0.5333\n",
      "Epoch 20/100\n",
      "4/4 [==============================] - 0s 4ms/step - loss: 0.8877 - accuracy: 0.6417\n",
      "Epoch 21/100\n",
      "4/4 [==============================] - 0s 0s/step - loss: 0.9143 - accuracy: 0.5833\n",
      "Epoch 22/100\n",
      "4/4 [==============================] - 0s 6ms/step - loss: 0.8637 - accuracy: 0.6583\n",
      "Epoch 23/100\n",
      "4/4 [==============================] - 0s 3ms/step - loss: 0.8592 - accuracy: 0.6250\n",
      "Epoch 24/100\n",
      "4/4 [==============================] - 0s 0s/step - loss: 0.8282 - accuracy: 0.7083\n",
      "Epoch 25/100\n",
      "4/4 [==============================] - 0s 6ms/step - loss: 0.8512 - accuracy: 0.5750\n",
      "Epoch 26/100\n",
      "4/4 [==============================] - 0s 5ms/step - loss: 0.8237 - accuracy: 0.6667\n",
      "Epoch 27/100\n",
      "4/4 [==============================] - 0s 724us/step - loss: 0.8134 - accuracy: 0.6417\n",
      "Epoch 28/100\n",
      "4/4 [==============================] - 0s 5ms/step - loss: 0.7699 - accuracy: 0.7000\n",
      "Epoch 29/100\n",
      "4/4 [==============================] - 0s 3ms/step - loss: 0.7456 - accuracy: 0.7167\n",
      "Epoch 30/100\n",
      "4/4 [==============================] - 0s 0s/step - loss: 0.7475 - accuracy: 0.6833\n",
      "Epoch 31/100\n",
      "4/4 [==============================] - 0s 6ms/step - loss: 0.7394 - accuracy: 0.7250\n",
      "Epoch 32/100\n",
      "4/4 [==============================] - 0s 5ms/step - loss: 0.7263 - accuracy: 0.6833\n",
      "Epoch 33/100\n",
      "4/4 [==============================] - 0s 0s/step - loss: 0.7425 - accuracy: 0.7083\n",
      "Epoch 34/100\n",
      "4/4 [==============================] - 0s 1ms/step - loss: 0.7201 - accuracy: 0.6833\n",
      "Epoch 35/100\n",
      "4/4 [==============================] - 0s 5ms/step - loss: 0.6865 - accuracy: 0.7250\n",
      "Epoch 36/100\n",
      "4/4 [==============================] - 0s 0s/step - loss: 0.6586 - accuracy: 0.7417\n",
      "Epoch 37/100\n",
      "4/4 [==============================] - 0s 1ms/step - loss: 0.7035 - accuracy: 0.6917\n",
      "Epoch 38/100\n",
      "4/4 [==============================] - 0s 5ms/step - loss: 0.6884 - accuracy: 0.7083\n",
      "Epoch 39/100\n",
      "4/4 [==============================] - 0s 0s/step - loss: 0.6712 - accuracy: 0.7417\n",
      "Epoch 40/100\n",
      "4/4 [==============================] - 0s 2ms/step - loss: 0.6353 - accuracy: 0.7917\n",
      "Epoch 41/100\n",
      "4/4 [==============================] - 0s 5ms/step - loss: 0.6245 - accuracy: 0.7500\n",
      "Epoch 42/100\n",
      "4/4 [==============================] - 0s 2ms/step - loss: 0.5913 - accuracy: 0.8333\n",
      "Epoch 43/100\n",
      "4/4 [==============================] - 0s 0s/step - loss: 0.5904 - accuracy: 0.7833\n",
      "Epoch 44/100\n",
      "4/4 [==============================] - 0s 2ms/step - loss: 0.6109 - accuracy: 0.8083\n",
      "Epoch 45/100\n",
      "4/4 [==============================] - 0s 4ms/step - loss: 0.6372 - accuracy: 0.7417\n",
      "Epoch 46/100\n",
      "4/4 [==============================] - 0s 220us/step - loss: 0.5751 - accuracy: 0.8250\n",
      "Epoch 47/100\n",
      "4/4 [==============================] - 0s 559us/step - loss: 0.6066 - accuracy: 0.7667\n",
      "Epoch 48/100\n",
      "4/4 [==============================] - 0s 2ms/step - loss: 0.5888 - accuracy: 0.8000\n",
      "Epoch 49/100\n",
      "4/4 [==============================] - 0s 3ms/step - loss: 0.5623 - accuracy: 0.8000\n",
      "Epoch 50/100\n",
      "4/4 [==============================] - 0s 405us/step - loss: 0.6269 - accuracy: 0.7167\n",
      "Epoch 51/100\n",
      "4/4 [==============================] - 0s 2ms/step - loss: 0.5977 - accuracy: 0.7667\n",
      "Epoch 52/100\n",
      "4/4 [==============================] - 0s 4ms/step - loss: 0.5479 - accuracy: 0.7833\n",
      "Epoch 53/100\n",
      "4/4 [==============================] - 0s 322us/step - loss: 0.5458 - accuracy: 0.8333\n",
      "Epoch 54/100\n",
      "4/4 [==============================] - 0s 2ms/step - loss: 0.5597 - accuracy: 0.7833\n",
      "Epoch 55/100\n",
      "4/4 [==============================] - 0s 3ms/step - loss: 0.5549 - accuracy: 0.7750\n",
      "Epoch 56/100\n",
      "4/4 [==============================] - 0s 0s/step - loss: 0.5483 - accuracy: 0.8000\n",
      "Epoch 57/100\n",
      "4/4 [==============================] - 0s 5ms/step - loss: 0.5095 - accuracy: 0.7833\n",
      "Epoch 58/100\n",
      "4/4 [==============================] - 0s 0s/step - loss: 0.5304 - accuracy: 0.8167\n",
      "Epoch 59/100\n",
      "4/4 [==============================] - 0s 0s/step - loss: 0.5333 - accuracy: 0.7667\n",
      "Epoch 60/100\n",
      "4/4 [==============================] - 0s 478us/step - loss: 0.5206 - accuracy: 0.7917\n",
      "Epoch 61/100\n",
      "4/4 [==============================] - 0s 0s/step - loss: 0.5050 - accuracy: 0.7667\n",
      "Epoch 62/100\n",
      "4/4 [==============================] - 0s 1ms/step - loss: 0.5059 - accuracy: 0.8250\n",
      "Epoch 63/100\n",
      "4/4 [==============================] - 0s 0s/step - loss: 0.4849 - accuracy: 0.8250\n",
      "Epoch 64/100\n",
      "4/4 [==============================] - 0s 6ms/step - loss: 0.5105 - accuracy: 0.7917\n",
      "Epoch 65/100\n",
      "4/4 [==============================] - 0s 0s/step - loss: 0.5001 - accuracy: 0.8083\n",
      "Epoch 66/100\n",
      "4/4 [==============================] - 0s 5ms/step - loss: 0.4915 - accuracy: 0.7750\n",
      "Epoch 67/100\n",
      "4/4 [==============================] - 0s 0s/step - loss: 0.4731 - accuracy: 0.8333\n",
      "Epoch 68/100\n",
      "4/4 [==============================] - 0s 5ms/step - loss: 0.4726 - accuracy: 0.8667\n",
      "Epoch 69/100\n",
      "4/4 [==============================] - 0s 0s/step - loss: 0.4565 - accuracy: 0.8167\n",
      "Epoch 70/100\n",
      "4/4 [==============================] - 0s 4ms/step - loss: 0.4408 - accuracy: 0.8167\n",
      "Epoch 71/100\n",
      "4/4 [==============================] - 0s 486us/step - loss: 0.4519 - accuracy: 0.8500\n",
      "Epoch 72/100\n",
      "4/4 [==============================] - 0s 0s/step - loss: 0.4327 - accuracy: 0.8333\n",
      "Epoch 73/100\n",
      "4/4 [==============================] - 0s 1ms/step - loss: 0.4483 - accuracy: 0.8167\n",
      "Epoch 74/100\n",
      "4/4 [==============================] - 0s 0s/step - loss: 0.4888 - accuracy: 0.7667\n",
      "Epoch 75/100\n",
      "4/4 [==============================] - 0s 649us/step - loss: 0.4538 - accuracy: 0.8417\n",
      "Epoch 76/100\n",
      "4/4 [==============================] - 0s 0s/step - loss: 0.4467 - accuracy: 0.8333\n",
      "Epoch 77/100\n",
      "4/4 [==============================] - 0s 788us/step - loss: 0.4301 - accuracy: 0.8500\n",
      "Epoch 78/100\n",
      "4/4 [==============================] - 0s 0s/step - loss: 0.4235 - accuracy: 0.8500\n",
      "Epoch 79/100\n",
      "4/4 [==============================] - 0s 2ms/step - loss: 0.4768 - accuracy: 0.7833\n",
      "Epoch 80/100\n",
      "4/4 [==============================] - 0s 0s/step - loss: 0.4122 - accuracy: 0.8667\n",
      "Epoch 81/100\n",
      "4/4 [==============================] - 0s 1ms/step - loss: 0.4103 - accuracy: 0.8500\n",
      "Epoch 82/100\n",
      "4/4 [==============================] - 0s 0s/step - loss: 0.4079 - accuracy: 0.8833\n",
      "Epoch 83/100\n",
      "4/4 [==============================] - 0s 723us/step - loss: 0.4508 - accuracy: 0.7750\n",
      "Epoch 84/100\n",
      "4/4 [==============================] - 0s 5ms/step - loss: 0.4660 - accuracy: 0.8083\n",
      "Epoch 85/100\n",
      "4/4 [==============================] - 0s 0s/step - loss: 0.4165 - accuracy: 0.7917\n",
      "Epoch 86/100\n",
      "4/4 [==============================] - 0s 2ms/step - loss: 0.4002 - accuracy: 0.8833\n",
      "Epoch 87/100\n",
      "4/4 [==============================] - 0s 3ms/step - loss: 0.4072 - accuracy: 0.8667\n",
      "Epoch 88/100\n",
      "4/4 [==============================] - 0s 0s/step - loss: 0.3983 - accuracy: 0.8250\n",
      "Epoch 89/100\n",
      "4/4 [==============================] - 0s 6ms/step - loss: 0.3894 - accuracy: 0.8667\n",
      "Epoch 90/100\n",
      "4/4 [==============================] - 0s 0s/step - loss: 0.3960 - accuracy: 0.8500\n",
      "Epoch 91/100\n",
      "4/4 [==============================] - 0s 0s/step - loss: 0.4007 - accuracy: 0.8667\n",
      "Epoch 92/100\n",
      "4/4 [==============================] - 0s 6ms/step - loss: 0.3970 - accuracy: 0.8417\n",
      "Epoch 93/100\n",
      "4/4 [==============================] - 0s 0s/step - loss: 0.3942 - accuracy: 0.8417\n",
      "Epoch 94/100\n",
      "4/4 [==============================] - 0s 779us/step - loss: 0.3711 - accuracy: 0.9000\n",
      "Epoch 95/100\n",
      "4/4 [==============================] - 0s 5ms/step - loss: 0.3748 - accuracy: 0.8417\n",
      "Epoch 96/100\n",
      "4/4 [==============================] - 0s 0s/step - loss: 0.3842 - accuracy: 0.8667\n",
      "Epoch 97/100\n",
      "4/4 [==============================] - 0s 717us/step - loss: 0.3961 - accuracy: 0.8250\n",
      "Epoch 98/100\n",
      "4/4 [==============================] - 0s 0s/step - loss: 0.3572 - accuracy: 0.8833\n",
      "Epoch 99/100\n",
      "4/4 [==============================] - 0s 1ms/step - loss: 0.4030 - accuracy: 0.7917\n",
      "Epoch 100/100\n",
      "4/4 [==============================] - 0s 0s/step - loss: 0.4052 - accuracy: 0.7917\n"
     ]
    }
   ],
   "source": [
    "# Train the model\n",
    "history = model.fit(X_train, y_train, epochs=100, batch_size=32, verbose=1)"
   ]
  },
  {
   "cell_type": "code",
   "execution_count": 12,
   "id": "ad4e7752",
   "metadata": {},
   "outputs": [],
   "source": [
    "# Evaluate the model\n",
    "train_loss, train_accuracy = model.evaluate(X_train, y_train, verbose=0)\n",
    "test_loss, test_accuracy = model.evaluate(X_test, enc.transform(y_test[:, np.newaxis]).toarray(), verbose=0)"
   ]
  },
  {
   "cell_type": "code",
   "execution_count": 13,
   "id": "b63d88f2",
   "metadata": {},
   "outputs": [
    {
     "name": "stdout",
     "output_type": "stream",
     "text": [
      "1/1 [==============================] - 0s 141ms/step\n"
     ]
    }
   ],
   "source": [
    "# Calculate F1-score\n",
    "y_pred = np.argmax(model.predict(X_test), axis=1)\n",
    "f1_score = f1_score(y_test, y_pred, average='weighted')"
   ]
  },
  {
   "cell_type": "code",
   "execution_count": 14,
   "id": "f041f5b0",
   "metadata": {},
   "outputs": [
    {
     "name": "stdout",
     "output_type": "stream",
     "text": [
      "Train Loss: 0.3355504274368286\n",
      "Train Accuracy: 0.925000011920929\n",
      "Test Loss: 0.2992211878299713\n",
      "Test Accuracy: 0.9666666388511658\n",
      "F1-Score: 0.9664109121909632\n"
     ]
    }
   ],
   "source": [
    "# Print the results\n",
    "print('Train Loss:', train_loss)\n",
    "print('Train Accuracy:', train_accuracy)\n",
    "print('Test Loss:', test_loss)\n",
    "print('Test Accuracy:', test_accuracy)\n",
    "print('F1-Score:', f1_score)"
   ]
  },
  {
   "cell_type": "code",
   "execution_count": 20,
   "id": "39918148",
   "metadata": {},
   "outputs": [
    {
     "name": "stdout",
     "output_type": "stream",
     "text": [
      "Layer 1 Weights: [array([[-0.03241419,  0.06323232, -0.5251813 , -0.5508379 ,  0.6695927 ,\n",
      "         0.67966586, -0.12863839, -0.1380339 , -0.36790332,  0.60232514,\n",
      "         0.39393046, -0.25050843,  0.18857576,  0.2321799 , -0.07231292,\n",
      "         0.08605574, -0.87122136,  0.30912322, -0.22990072,  0.65520304,\n",
      "         0.00721117, -0.219563  , -0.18520805,  0.5467736 ,  0.28991702],\n",
      "       [-0.1138123 ,  0.46846086,  0.31527907,  0.28344902, -0.24774918,\n",
      "        -0.22232524, -0.42524648, -0.31811833, -0.10704511, -0.73135936,\n",
      "        -0.05162938, -0.12164974, -0.41012177, -0.33865404,  0.39924127,\n",
      "        -0.6409351 ,  0.79629993, -0.24874961,  0.54156125, -0.31213963,\n",
      "        -0.16219048,  0.05946772,  0.71325696,  0.02347798, -0.34957743],\n",
      "       [ 0.16470991, -0.16692843, -0.45954424, -0.06306731,  0.6689725 ,\n",
      "         0.09302647,  0.4882966 , -0.1821746 , -0.608099  ,  0.8532478 ,\n",
      "         0.6311259 , -0.0693694 ,  0.2996857 ,  0.7986915 ,  0.6334335 ,\n",
      "         0.6569668 , -0.84031725,  0.6486596 , -0.00634284,  0.63538074,\n",
      "         0.6342848 ,  0.15797704, -0.31509298,  0.09483104, -0.16036893],\n",
      "       [-0.07455117,  0.24488613, -0.5881638 , -0.38431907,  0.63265777,\n",
      "         0.76297843,  0.06701877, -0.7260519 , -0.96193004,  0.30025432,\n",
      "         0.23448992,  0.16240802, -0.1068102 ,  0.9220819 ,  0.11504752,\n",
      "         0.93690497, -0.8015702 ,  1.0134479 , -0.21303995,  0.78554404,\n",
      "         0.88032246,  0.38448867, -0.6830257 , -0.19902954,  0.10379616]],\n",
      "      dtype=float32), array([ 0.08273119, -0.15252829,  0.1059003 , -0.04890887, -0.16827913,\n",
      "       -0.24401028, -0.08219547, -0.07838895,  0.12135071, -0.00327963,\n",
      "       -0.22974463, -0.17935891, -0.05065638, -0.07575756, -0.2162733 ,\n",
      "       -0.27495518,  0.11252911, -0.32434148, -0.05537055, -0.26054913,\n",
      "       -0.28616554, -0.13957281,  0.02114426, -0.03326574, -0.07474227],\n",
      "      dtype=float32)]\n",
      "Layer 2 Weights: []\n",
      "Layer 3 Weights: [array([[ 0.03469954, -0.05078812, -0.34629634],\n",
      "       [-0.2945448 , -0.38257107, -0.22043797],\n",
      "       [ 0.38363093,  0.09964589, -0.5893144 ],\n",
      "       [ 0.6523415 , -0.06774668, -0.46493423],\n",
      "       [-0.8540712 , -0.19397497, -0.0994352 ],\n",
      "       [-0.3052301 ,  0.38193882,  0.608361  ],\n",
      "       [-0.30794394,  0.4886779 ,  0.1836409 ],\n",
      "       [-0.16484262,  0.47506425, -0.53559136],\n",
      "       [ 0.62666124,  0.52101284, -0.40101635],\n",
      "       [-0.5083026 ,  0.10024852,  0.02783288],\n",
      "       [-0.37258914, -0.06658485,  0.2430916 ],\n",
      "       [ 0.29453433, -0.07593536,  0.20246461],\n",
      "       [-0.1352888 ,  0.16483389,  0.02324903],\n",
      "       [-0.08951764,  0.3716123 ,  0.48862204],\n",
      "       [-0.12607527, -0.2457992 ,  0.13514926],\n",
      "       [-0.38604012,  0.11555313,  0.4167071 ],\n",
      "       [ 0.48778874,  0.22886816, -0.21710438],\n",
      "       [-0.663782  , -0.21847373,  0.10025241],\n",
      "       [ 0.45599297, -0.31611907, -0.4565366 ],\n",
      "       [-0.31611687,  0.00877351,  0.24382457],\n",
      "       [-0.29212642,  0.18827847,  0.5934254 ],\n",
      "       [-0.17341608,  0.05406215,  0.14757589],\n",
      "       [ 0.64851576,  0.08379563, -0.5572939 ],\n",
      "       [-0.39248145,  0.28114554, -0.17386428],\n",
      "       [-0.21610546,  0.2898229 ,  0.07073237]], dtype=float32), array([ 0.08838952,  0.13865763, -0.17375584], dtype=float32)]\n"
     ]
    }
   ],
   "source": [
    "# Print the final parameters\n",
    "for i, layer in enumerate(model.layers):\n",
    "    print(\"Layer\", i+1, \"Weights:\", layer.get_weights())"
   ]
  },
  {
   "cell_type": "code",
   "execution_count": 29,
   "id": "b72e7e0d",
   "metadata": {},
   "outputs": [],
   "source": [
    "# Get the loss values from the history object\n",
    "loss_values = history.history['loss']"
   ]
  },
  {
   "cell_type": "code",
   "execution_count": 30,
   "id": "4713e657",
   "metadata": {},
   "outputs": [
    {
     "data": {
      "image/png": "[encoded data removed]",
      "text/plain": [
       "<Figure size 432x288 with 1 Axes>"
      ]
     },
     "metadata": {
      "needs_background": "light"
     },
     "output_type": "display_data"
    }
   ],
   "source": [
    "# Plot the loss function vs. epochs\n",
    "plt.plot(range(1, len(loss_values) + 1), loss_values)\n",
    "plt.xlabel('Epochs')\n",
    "plt.ylabel('Loss')\n",
    "plt.title('Loss Function vs. Epochs')\n",
    "plt.show()"
   ]
  },
  {
   "cell_type": "code",
   "execution_count": 27,
   "id": "0ef8932b",
   "metadata": {},
   "outputs": [],
   "source": [
    "# Get the training accuracy values from the history object\n",
    "accuracy_values = history.history['accuracy']"
   ]
  },
  {
   "cell_type": "code",
   "execution_count": 28,
   "id": "89f651ee",
   "metadata": {},
   "outputs": [
    {
     "data": {
      "image/png": "[encoded data removed]",
      "text/plain": [
       "<Figure size 432x288 with 1 Axes>"
      ]
     },
     "metadata": {
      "needs_background": "light"
     },
     "output_type": "display_data"
    }
   ],
   "source": [
    "# Plot the training accuracy vs. epochs\n",
    "plt.plot(range(1, len(accuracy_values) + 1), accuracy_values)\n",
    "plt.xlabel('Epochs')\n",
    "plt.ylabel('Training Accuracy')\n",
    "plt.title('Training Accuracy vs. Epochs')\n",
    "plt.show()"
   ]
  },
  {
   "cell_type": "code",
   "execution_count": null,
   "id": "1e71135b",
   "metadata": {},
   "outputs": [],
   "source": []
  }
 ],
 "metadata": {
  "kernelspec": {
   "display_name": "Python 3 (ipykernel)",
   "language": "python",
   "name": "python3"
  },
  "language_info": {
   "codemirror_mode": {
    "name": "ipython",
    "version": 3
   },
   "file_extension": ".py",
   "mimetype": "text/x-python",
   "name": "python",
   "nbconvert_exporter": "python",
   "pygments_lexer": "ipython3",
   "version": "3.9.12"
  }
 },
 "nbformat": 4,
 "nbformat_minor": 5
}
